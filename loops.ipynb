{
 "cells": [
  {
   "cell_type": "code",
   "execution_count": 1,
   "metadata": {},
   "outputs": [
    {
     "name": "stdout",
     "output_type": "stream",
     "text": [
      "Hello world\n"
     ]
    }
   ],
   "source": [
    "print(\"Hello world\")"
   ]
  },
  {
   "cell_type": "code",
   "execution_count": 7,
   "metadata": {},
   "outputs": [
    {
     "name": "stdout",
     "output_type": "stream",
     "text": [
      "0 1 2 3 4 5 6 7 8 9 10 "
     ]
    }
   ],
   "source": [
    "i = 0\n",
    "    \n",
    "while(i <= 10):\n",
    "    print(i, end=\" \")  \n",
    "    i += 1"
   ]
  },
  {
   "cell_type": "code",
   "execution_count": 9,
   "metadata": {},
   "outputs": [
    {
     "name": "stdout",
     "output_type": "stream",
     "text": [
      "0 1 2 3 4 "
     ]
    }
   ],
   "source": [
    "numbers = [19,20,40,10]\n",
    "i = 0\n",
    "while (i <= len(numbers) ):\n",
    "    print(i, end=\" \")\n",
    "    i += 1\n"
   ]
  },
  {
   "cell_type": "code",
   "execution_count": 16,
   "metadata": {},
   "outputs": [
    {
     "name": "stdout",
     "output_type": "stream",
     "text": [
      "6\n"
     ]
    }
   ],
   "source": [
    "# find factorial of a number\n",
    "\n",
    "n = 3 \n",
    "# factorial = 3 * 2 * 1\n",
    "factorial = 1\n",
    "while (n >= 1):\n",
    "    factorial *= n\n",
    "    n -= 1\n",
    "print(factorial)"
   ]
  },
  {
   "cell_type": "code",
   "execution_count": 19,
   "metadata": {},
   "outputs": [
    {
     "name": "stdout",
     "output_type": "stream",
     "text": [
      "1 1 2 3 5 8 13 "
     ]
    }
   ],
   "source": [
    "# print fibonacci sequence\n",
    "\n",
    "i = 1\n",
    "n = 7\n",
    "\n",
    "# starting number\n",
    "\n",
    "a = 1\n",
    "b = 1\n",
    "\n",
    "while (i <= n):\n",
    "    print(a,end = \" \")\n",
    "    next_fib = a + b \n",
    "    a = b\n",
    "    b = next_fib\n",
    "\n",
    "    i += 1\n"
   ]
  },
  {
   "cell_type": "code",
   "execution_count": 21,
   "metadata": {},
   "outputs": [
    {
     "name": "stdout",
     "output_type": "stream",
     "text": [
      "True\n"
     ]
    }
   ],
   "source": [
    "def isPalindrom(s):\n",
    "    s = s.replace(\" \",\"\").lower()\n",
    "\n",
    "    left = 0\n",
    "    right = len(s) - 1\n",
    "\n",
    "    while left < right:\n",
    "        if s[left] != s[right]:\n",
    "            return False \n",
    "        \n",
    "        left += 1\n",
    "        right -= 1\n",
    "    return True\n",
    "\n",
    "\n",
    "word = \"madam\"\n",
    "\n",
    "print(isPalindrom(word))"
   ]
  },
  {
   "cell_type": "code",
   "execution_count": 22,
   "metadata": {},
   "outputs": [
    {
     "data": {
      "text/plain": [
       "True"
      ]
     },
     "execution_count": 22,
     "metadata": {},
     "output_type": "execute_result"
    }
   ],
   "source": [
    "def isPalindrome(s):\n",
    "    s = s.replace(' ','').lower()\n",
    "\n",
    "    left = 0\n",
    "    right = len(s) - 1\n",
    "\n",
    "    while left < right:\n",
    "        if s[left] != s[right]:\n",
    "            return False \n",
    "        \n",
    "        left += 1\n",
    "        right -= 1\n",
    "    return True \n",
    "\n",
    "word = \"madam\"\n",
    "\n",
    "isPalindrome(word)\n"
   ]
  },
  {
   "cell_type": "code",
   "execution_count": 1,
   "metadata": {},
   "outputs": [
    {
     "name": "stdout",
     "output_type": "stream",
     "text": [
      "2 3 5 7 11 13 17 19 23 29 31 37 41 43 47 53 59 61 67 71 73 79 83 89 97 "
     ]
    }
   ],
   "source": [
    "#finding prime numbers in a range.\n",
    "\n",
    "# find prime numbers b/w 2 to 50 \n",
    "\n",
    "start = 2\n",
    "end = 100 \n",
    "\n",
    "while start <= end:\n",
    "    is_prime = True \n",
    "    i = 2\n",
    "    while i <= start // 2:\n",
    "        if start % i == 0:\n",
    "            is_prime = False \n",
    "            break\n",
    "        i += 1\n",
    "    if is_prime:\n",
    "        print(start,end=\" \")\n",
    "    start += 1\n",
    "    "
   ]
  },
  {
   "cell_type": "code",
   "execution_count": 5,
   "metadata": {},
   "outputs": [
    {
     "name": "stdout",
     "output_type": "stream",
     "text": [
      "2 3 5 7 11 13 17 19 23 29 31 37 41 43 47 "
     ]
    }
   ],
   "source": [
    "start = 2\n",
    "end = 50 \n",
    "\n",
    "# use a while loop to iterate from start to end\n",
    "while start <= end:\n",
    "    is_prime = True\n",
    "\n",
    "    # check for divisors from 2 to half of the current number (start // 2)\n",
    "    i = 2\n",
    "    while i <= start // 2:\n",
    "        # if the current number is divisible by 'i', it is not prime number\n",
    "        if start % i == 0:\n",
    "            is_prime = False \n",
    "            break # exit the inner loop as we found a divisor\n",
    "        i += 1 # increment i to check the next potential divisor\n",
    "\n",
    "    # if no divisor was found, it means we found the prime number    \n",
    "    if is_prime:\n",
    "        print(start,end=\" \") # print the prime number\n",
    "    \n",
    "\n",
    "    # move to the next number\n",
    "    start += 1"
   ]
  },
  {
   "cell_type": "code",
   "execution_count": 6,
   "metadata": {},
   "outputs": [
    {
     "name": "stdout",
     "output_type": "stream",
     "text": [
      "1 153 370 371 407 "
     ]
    }
   ],
   "source": [
    "# finding armstrong numbers in a range.\n",
    "\n",
    "num = 1\n",
    "\n",
    "while num <= 1000:\n",
    "    sum_of_cubes = 0\n",
    "    temp = num \n",
    "    while temp > 0:\n",
    "        digit = temp % 10\n",
    "        sum_of_cubes += digit ** 3\n",
    "        temp //= 10 \n",
    "    \n",
    "    if sum_of_cubes == num:\n",
    "        print(num,end= \" \")\n",
    "    \n",
    "    num += 1"
   ]
  },
  {
   "cell_type": "code",
   "execution_count": 11,
   "metadata": {},
   "outputs": [
    {
     "name": "stdout",
     "output_type": "stream",
     "text": [
      "1 153 370 371 407 "
     ]
    }
   ],
   "source": [
    "num = 1\n",
    "while num <= 1000:\n",
    "    sum_of_cubes = 0\n",
    "    temp = num \n",
    "    while temp > 0:\n",
    "        digit = temp % 10\n",
    "        sum_of_cubes += digit ** 3\n",
    "        temp //= 10\n",
    "    if sum_of_cubes == num:\n",
    "        print(num,end= \" \")\n",
    "    \n",
    "    num += 1"
   ]
  },
  {
   "cell_type": "code",
   "execution_count": 12,
   "metadata": {},
   "outputs": [
    {
     "name": "stdout",
     "output_type": "stream",
     "text": [
      "1 153 370 371 407 "
     ]
    }
   ],
   "source": [
    "num = 1\n",
    "\n",
    "while num <= 1000:\n",
    "    sum_of_cubes = 0\n",
    "    temp = num \n",
    "\n",
    "    while temp > 0:\n",
    "        digit = temp % 10\n",
    "        sum_of_cubes += digit ** 3\n",
    "        temp //= 10 \n",
    "    if sum_of_cubes == num:\n",
    "        print(num, end=\" \")\n",
    "    \n",
    "    num += 1\n"
   ]
  },
  {
   "cell_type": "code",
   "execution_count": 14,
   "metadata": {},
   "outputs": [
    {
     "name": "stdout",
     "output_type": "stream",
     "text": [
      "1 153 370 371 407 "
     ]
    }
   ],
   "source": [
    "num = 1\n",
    "\n",
    "while num <= 1000:\n",
    "    sum_of_cubes = 0\n",
    "    temp = num \n",
    "\n",
    "    while temp > 0:\n",
    "        digit = temp % 10\n",
    "        sum_of_cubes += digit ** 3 \n",
    "        temp //= 10\n",
    "    \n",
    "\n",
    "    if sum_of_cubes == num:\n",
    "        print(num,end= \" \")\n",
    "    \n",
    "    num += 1"
   ]
  },
  {
   "cell_type": "code",
   "execution_count": 15,
   "metadata": {},
   "outputs": [
    {
     "name": "stdout",
     "output_type": "stream",
     "text": [
      "1 153 370 371 407 "
     ]
    }
   ],
   "source": [
    "num = 1\n",
    "\n",
    "while num <= 1000:\n",
    "    sum_of_cubes = 0\n",
    "    temp = num \n",
    "\n",
    "    while temp > 0:\n",
    "        digit = temp % 10\n",
    "        sum_of_cubes += digit ** 3\n",
    "        temp //= 10\n",
    "    \n",
    "    if sum_of_cubes == num:\n",
    "        print(num, end=\" \")\n",
    "    \n",
    "    num += 1"
   ]
  },
  {
   "cell_type": "code",
   "execution_count": 17,
   "metadata": {},
   "outputs": [
    {
     "name": "stdout",
     "output_type": "stream",
     "text": [
      "1 153 370 371 407 "
     ]
    }
   ],
   "source": [
    "num = 1\n",
    "\n",
    "while num <= 1000:\n",
    "    sum_of_cubes = 0\n",
    "    temp = num \n",
    "\n",
    "    while temp > 0:\n",
    "        digit = temp % 10\n",
    "        sum_of_cubes += digit ** 3\n",
    "        temp //= 10\n",
    "    \n",
    "    if sum_of_cubes == num:\n",
    "        print(num, end= \" \")\n",
    "    \n",
    "\n",
    "    num += 1"
   ]
  },
  {
   "cell_type": "code",
   "execution_count": 20,
   "metadata": {},
   "outputs": [
    {
     "name": "stdout",
     "output_type": "stream",
     "text": [
      "Sum of squares: 55\n"
     ]
    }
   ],
   "source": [
    "# sum of squares of first N natural numbers\n",
    "\n",
    "n = 5\n",
    "sum_of_squares = 0\n",
    "i = 1 \n",
    "\n",
    "while i <= n:\n",
    "    sum_of_squares += i ** 2\n",
    "    i += 1\n",
    "\n",
    "print(\"Sum of squares:\", sum_of_squares)"
   ]
  },
  {
   "cell_type": "code",
   "execution_count": 21,
   "metadata": {},
   "outputs": [
    {
     "name": "stdout",
     "output_type": "stream",
     "text": [
      "Sum of squares 55\n"
     ]
    }
   ],
   "source": [
    "n = 5\n",
    "sum_of_squares = 0\n",
    "\n",
    "i = 1\n",
    "\n",
    "while i <=n:\n",
    "    sum_of_squares += i ** 2\n",
    "    i += 1\n",
    "\n",
    "print(\"Sum of squares\", sum_of_squares)"
   ]
  },
  {
   "cell_type": "code",
   "execution_count": 22,
   "metadata": {},
   "outputs": [
    {
     "name": "stdout",
     "output_type": "stream",
     "text": [
      "Sum of squares 100\n"
     ]
    }
   ],
   "source": [
    "n = 10\n",
    "i = 1\n",
    "sum_of_squares = 0\n",
    "\n",
    "while i <= n:\n",
    "    sum_of_squares = i ** 2\n",
    "    i += 1\n",
    "\n",
    "print(\"Sum of squares\", sum_of_squares)"
   ]
  },
  {
   "cell_type": "code",
   "execution_count": 23,
   "metadata": {},
   "outputs": [
    {
     "name": "stdout",
     "output_type": "stream",
     "text": [
      "40000\n"
     ]
    }
   ],
   "source": [
    "n = 200\n",
    "i = 1\n",
    "\n",
    "sum_of_squares = 0\n",
    "\n",
    "while i <= n:\n",
    "    sum_of_squares = i ** 2\n",
    "    i += 1\n",
    "\n",
    "print(sum_of_squares)"
   ]
  },
  {
   "cell_type": "code",
   "execution_count": 24,
   "metadata": {},
   "outputs": [
    {
     "name": "stdout",
     "output_type": "stream",
     "text": [
      "Largest digit 9\n"
     ]
    }
   ],
   "source": [
    "# finding the largest digit ina number\n",
    "\n",
    "num = 9876543\n",
    "\n",
    "max_digit = 0\n",
    "\n",
    "while num > 0:\n",
    "    digit = num % 10\n",
    "    if digit > max_digit:\n",
    "        max_digit = digit \n",
    "    num //= 10\n",
    "\n",
    "print(\"Largest digit\",max_digit)"
   ]
  },
  {
   "cell_type": "code",
   "execution_count": 25,
   "metadata": {},
   "outputs": [
    {
     "name": "stdout",
     "output_type": "stream",
     "text": [
      "Largest digit 9\n"
     ]
    }
   ],
   "source": [
    "num = 91829493\n",
    "\n",
    "max_digit = 0\n",
    "\n",
    "while num > 0:\n",
    "    digit = num % 10\n",
    "    if digit > max_digit:\n",
    "        max_digit = digit \n",
    "    \n",
    "    num //= 10\n",
    "\n",
    "print(\"Largest digit\",max_digit)"
   ]
  },
  {
   "cell_type": "code",
   "execution_count": 26,
   "metadata": {},
   "outputs": [
    {
     "name": "stdout",
     "output_type": "stream",
     "text": [
      "Largest digit 8\n"
     ]
    }
   ],
   "source": [
    "num = 483234838\n",
    "\n",
    "max_digit = 0\n",
    "\n",
    "while num > 0:\n",
    "    digit = num % 10\n",
    "    if digit > max_digit:\n",
    "        max_digit = digit \n",
    "    \n",
    "    num //= 10 \n",
    "print(\"Largest digit\",max_digit)"
   ]
  },
  {
   "cell_type": "code",
   "execution_count": 30,
   "metadata": {},
   "outputs": [
    {
     "name": "stdout",
     "output_type": "stream",
     "text": [
      "20 10 5 16 8 4 2 1\n"
     ]
    }
   ],
   "source": [
    "# what is collatz conjecture\n",
    "\n",
    "num = 20 \n",
    "\n",
    "while num != 1:\n",
    "    print(num, end = \" \")\n",
    "    if num % 2 == 0:\n",
    "        num //= 2\n",
    "    else:\n",
    "        num = 3 * num + 1\n",
    "print(1)\n"
   ]
  },
  {
   "cell_type": "code",
   "execution_count": 32,
   "metadata": {},
   "outputs": [
    {
     "name": "stdout",
     "output_type": "stream",
     "text": [
      "50 25 76 38 19 58 29 88 44 22 11 34 17 52 26 13 40 20 10 5 16 8 4 2 1\n"
     ]
    }
   ],
   "source": [
    "num = 50\n",
    "\n",
    "while num != 1:\n",
    "    print(num, end=\" \")\n",
    "    if num % 2 == 0:\n",
    "        num //= 2\n",
    "    else:\n",
    "        num = 3 * num + 1\n",
    "\n",
    "print(1)"
   ]
  },
  {
   "cell_type": "code",
   "execution_count": 34,
   "metadata": {},
   "outputs": [
    {
     "name": "stdout",
     "output_type": "stream",
     "text": [
      "GCD 14\n"
     ]
    }
   ],
   "source": [
    "# find gcd of two numbers using while loop\n",
    "\n",
    "a = 56\n",
    "b = 98\n",
    "\n",
    "while b != 0:\n",
    "    a, b = b, a % b \n",
    "\n",
    "\n",
    "print(\"GCD\",a)"
   ]
  },
  {
   "cell_type": "code",
   "execution_count": 35,
   "metadata": {},
   "outputs": [
    {
     "name": "stdout",
     "output_type": "stream",
     "text": [
      "GCD 14\n"
     ]
    }
   ],
   "source": [
    "a = 56 \n",
    "b = 98 \n",
    "\n",
    "while b!=0:\n",
    "    a, b = b, a %b\n",
    "\n",
    "print(\"GCD\", a)"
   ]
  },
  {
   "cell_type": "code",
   "execution_count": 37,
   "metadata": {},
   "outputs": [
    {
     "name": "stdout",
     "output_type": "stream",
     "text": [
      "Even digits: 8\n",
      "odd digits: 2\n"
     ]
    }
   ],
   "source": [
    "# count odd and even digits in a number\n",
    "\n",
    "num = 4452425242\n",
    "\n",
    "even_count = 0\n",
    "odd_count = 0\n",
    "\n",
    "\n",
    "while num > 0:\n",
    "    digit = num % 10 \n",
    "    if digit % 2 == 0:\n",
    "        even_count += 1\n",
    "    else:\n",
    "        odd_count += 1\n",
    "    num //= 10\n",
    "print(\"Even digits:\",even_count)\n",
    "print(\"odd digits:\",odd_count)"
   ]
  },
  {
   "cell_type": "code",
   "execution_count": 38,
   "metadata": {},
   "outputs": [
    {
     "name": "stdout",
     "output_type": "stream",
     "text": [
      "Welcome to the higher or lower game.\n",
      "I am thinking of a number between 1 and 100. Can you guess it.\n"
     ]
    }
   ],
   "source": [
    "import random \n",
    "\n",
    "def higher_lower_game():\n",
    "    target_number = random.randint(1,100)\n",
    "    attempts = 0\n",
    "\n",
    "    print(\"Welcome to the higher or lower game.\")\n",
    "    print(\"I am thinking of a number between 1 and 100. Can you guess it.\")\n",
    "\n",
    "\n",
    "    while True:\n",
    "        try:\n",
    "            user_guess = int(input(\"Enter your guess\"))\n",
    "        \n",
    "        except ValueError:\n",
    "            print(\"Please enter a valid number.\")\n",
    "            continue\n",
    "\n",
    "        attempts += 1\n",
    "\n",
    "        if user_guess < target_number:\n",
    "            print(\"Too low! Try again.\")\n",
    "        elif user_guess > target_number:\n",
    "            print(\"Too high! Try again\")\n",
    "        else:\n",
    "            print(\"Congrats.  you guessed the right number\")\n",
    "\n",
    "higher_lower_game()"
   ]
  },
  {
   "cell_type": "code",
   "execution_count": null,
   "metadata": {},
   "outputs": [],
   "source": [
    "20"
   ]
  },
  {
   "cell_type": "code",
   "execution_count": null,
   "metadata": {},
   "outputs": [],
   "source": []
  }
 ],
 "metadata": {
  "kernelspec": {
   "display_name": "Python 3",
   "language": "python",
   "name": "python3"
  },
  "language_info": {
   "codemirror_mode": {
    "name": "ipython",
    "version": 3
   },
   "file_extension": ".py",
   "mimetype": "text/x-python",
   "name": "python",
   "nbconvert_exporter": "python",
   "pygments_lexer": "ipython3",
   "version": "3.12.4"
  }
 },
 "nbformat": 4,
 "nbformat_minor": 2
}
